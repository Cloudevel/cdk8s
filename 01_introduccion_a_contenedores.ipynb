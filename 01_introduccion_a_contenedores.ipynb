{
 "cells": [
  {
   "cell_type": "markdown",
   "metadata": {
    "slideshow": {
     "slide_type": "slide"
    }
   },
   "source": [
    "[![cloudevel](img/cloudevel.png)](https://cloudevel.com)"
   ]
  },
  {
   "cell_type": "markdown",
   "metadata": {},
   "source": [
    "# Introducción a contenedores."
   ]
  },
  {
   "cell_type": "markdown",
   "metadata": {
    "slideshow": {
     "slide_type": "slide"
    }
   },
   "source": [
    "## Particionamiento, zonas y contenedores.\n",
    "\n",
    "Existen casos en los que en lugar de crear entornos completamente autónomos, como es el caso de las máquinas virtuales, se ha optado por crear entornos en los cuales las operaciones de bajo nivel las realiza el sistema operativo del anfitrión mientras que a los sistemas huésped se les asignan recursos aislados tanto del anfitrión como de los otros huéspedes.\n",
    "De este modo, tanto el anfitrión como los huéspedes comparten el mismo kernel y recursos básicos del sistema, pero se ejecutan en entornos separados."
   ]
  },
  {
   "cell_type": "markdown",
   "metadata": {
    "slideshow": {
     "slide_type": "subslide"
    }
   },
   "source": [
    "### Principales herramientas de contenedores.\n",
    "* Jail en \\*BSD.\n",
    "* Chroot en Linux.\n",
    "* [Docker.](http://www.docker.com/)\n",
    "* [Linux Containers (LXC/LXD).](https://linuxcontainers.org/)\n",
    "* [OpenVZ.](https://openvz.org/)\n",
    "* [Linux VSever.](http://linux-vserver.org/)"
   ]
  },
  {
   "cell_type": "markdown",
   "metadata": {},
   "source": [
    "## Conceptos básico sobre los contenedores.\n",
    "\n",
    "Los contenedores son espacios dentro de una sistema operativo anfitrión que tienen su propia estructura de directorios y sus propias bilbiotecas.\n",
    "\n",
    "Los contenedores comparten el kernel del sistema anfitrión y algunos procesos básicos, pero todo lo demás es autónomo y aislado."
   ]
  },
  {
   "cell_type": "markdown",
   "metadata": {},
   "source": [
    "### Características de los contenedores.\n",
    "\n",
    "* Un contenedor es mucho más ligero que una máquina virtual. \n",
    "* Los contenedores están diseñados para apagarse tan pronto como ejecutan los procesos para los que fueron creados.\n",
    "* Los contenedores están diseñados para realizar procesos aislados.\n",
    "* Los contenedores no deben de tener estados que afecten a un sistema.    "
   ]
  },
  {
   "cell_type": "markdown",
   "metadata": {
    "slideshow": {
     "slide_type": "subslide"
    }
   },
   "source": [
    "## Clusterización de contenedores.\n",
    "* [Docker Swarm.](https://docs.docker.com/engine/swarm/) \n",
    "Es el orquestador de cluters de contenedortes de Docker.\n",
    "* [Kubernetes.](https://kubernetes.io/)\n",
    "Es una herramienta de gestión de contenedores y de objetos desarrollada por Google."
   ]
  },
  {
   "cell_type": "markdown",
   "metadata": {
    "slideshow": {
     "slide_type": "subslide"
    }
   },
   "source": [
    "## [Open Container Initiative.](https://www.opencontainers.org)\n",
    "Es un esfuerzo para regular y darle gobernanza al desarrollo de tecnologías basadas en contenedores."
   ]
  },
  {
   "cell_type": "markdown",
   "metadata": {
    "slideshow": {
     "slide_type": "slide"
    }
   },
   "source": [
    "<p style=\"text-align: center\"><a rel=\"license\" href=\"http://creativecommons.org/licenses/by/4.0/\"><img alt=\"Licencia Creative Commons\" style=\"border-width:0\" src=\"https://i.creativecommons.org/l/by/4.0/80x15.png\" /></a><br />Esta obra está bajo una <a rel=\"license\" href=\"http://creativecommons.org/licenses/by/4.0/\">Licencia Creative Commons Atribución 4.0 Internacional</a>.</p>\n",
    "<p style=\"text-align: center\">&copy; José Luis Chiquete Valdivieso. 2020.</p>"
   ]
  }
 ],
 "metadata": {
  "kernelspec": {
   "display_name": "Bash",
   "language": "bash",
   "name": "bash"
  },
  "language_info": {
   "codemirror_mode": "shell",
   "file_extension": ".sh",
   "mimetype": "text/x-sh",
   "name": "bash"
  }
 },
 "nbformat": 4,
 "nbformat_minor": 2
}
