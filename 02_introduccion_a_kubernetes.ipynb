{
 "cells": [
  {
   "cell_type": "markdown",
   "metadata": {},
   "source": [
    "[![cloudevel](img/cloudevel.png)](https://cloudevel.com)"
   ]
  },
  {
   "cell_type": "markdown",
   "metadata": {},
   "source": [
    "# Introducción a *Kubernetes*."
   ]
  },
  {
   "cell_type": "markdown",
   "metadata": {},
   "source": [
    "[*Kubernetes*](https://kubernetes.io) (*K8s*) es un proyecto desarrollado por Google para la gestión, orquestación y despliegue de aplicaciones contenerizadas dentro de un cluster de cómputo.\n",
    "\n",
    "La documentación oficial en español puede ser consultada en: \n",
    "\n",
    "https://kubernetes.io/es/docs/home/"
   ]
  },
  {
   "cell_type": "markdown",
   "metadata": {},
   "source": [
    "## Conceptos básicos."
   ]
  },
  {
   "cell_type": "markdown",
   "metadata": {},
   "source": [
    "### Orquestadores.\n",
    "\n",
    "Un orquestador es un sistema que despliega y gestiona aplicaciones, permitiendo:\n",
    "\n",
    "* Desplegar una o varias aplicaciones.\n",
    "* Escalar los recursos asignados en función de los requerimientos.\n",
    "* Monitorear y gestionar la \"salud\" de un sistema y sus componentes.\n",
    "* Realizar *rollbacks* de forma segura sin pérdidas de rendimiento.\n",
    "\n",
    "En la siguiente liga, la documentación oficial especifica lo que *Kubernetes* no es: https://kubernetes.io/es/docs/concepts/overview/what-is-kubernetes/#lo-que-kubernetes-no-es"
   ]
  },
  {
   "cell_type": "markdown",
   "metadata": {},
   "source": [
    "### Aplicaciones contenerizadas.\n",
    "\n",
    "A lo largo de este curso se han explorado los contenedores como el objeto primordial de estudio. Sin embargo, los contenedores son una herramienta cuyo objetivo es el desarrollo, despliegue, puesta en marcha y publicación de aplicaciones de software. De esto se desprenden los términos:\n",
    "\n",
    "* \"*Cloud native*\", que consiste en desarrollar aplicaciones y sistemas diseñados específicamente para funcionar en entornos basados en servicios de cómputo en la nube.\n",
    "* \"*Microservicios*\", que es un [*patrón de diseño*](https://www.martinfowler.com/articles/microservices.html) consistente en desarrollar sistemas cuyos componentes son modulares, interoperables y desacoplados."
   ]
  },
  {
   "cell_type": "markdown",
   "metadata": {},
   "source": [
    "## *Kubernetes* y *Docker*.\n",
    "\n",
    "*Docker* es quizás la herramienta de gestión de contenedores más popular en la actualidad y sus funcionalidades pueden ser aprovechadas y extendidas de forma transparente por *Kubernetes*. Sin embargo, *Kubernetes* fue diseñado para ser autónomo del sistema de gestión de contenedores, evitando una dependencia excesiva en herramientas particulares."
   ]
  },
  {
   "cell_type": "markdown",
   "metadata": {},
   "source": [
    "## Arquitectura de *Kubernertes*.\n",
    "\n",
    "*Kubernetes* fue ideado para orquestar aplicaciones contenerizadas dentro de un *cluster* distribuído y escalable, por lo que se pueden identificar dos ámbitos dentro de su arquitectura.\n",
    "\n",
    "* El plano de control, que corresponde a todos aquellos componentes que gestionan al cluster.\n",
    "* Los nodos son máquinas (físicas o virtuales) que contienen a un gestor de contenedores y a un  agente llamado [*kubelet*](https://kubernetes.io/docs/reference/command-line-tools-reference/kubelet/). Los nodos se encargan de las operaciones de cómputo del cluster."
   ]
  },
  {
   "cell_type": "markdown",
   "metadata": {},
   "source": [
    "![componentes-k8s.png](Imagenes/componentes-k8s.png)\n",
    "\n",
    "Fuente: https://kubernetes.io/docs/concepts/overview/components/"
   ]
  },
  {
   "cell_type": "markdown",
   "metadata": {},
   "source": [
    "### La *API* de *Kubernets*.\n",
    "\n",
    "El componente primordial de *Kubernetes* es una *API REST* que expone diversos servicios de administración y de control de un cluster de *Kubernetes*.\n",
    "\n",
    "Aún cuando es posible acceder a la *API* mediante herramientas tales como [```curl```](https://curl.haxx.se/), lo más común es usar la *CLI* mediante el comando ```kubectl```."
   ]
  },
  {
   "cell_type": "markdown",
   "metadata": {},
   "source": [
    "### El comando ```kubectl```.\n",
    "\n",
    "Este comando representa la interfaz principal para la ejecución de un cluster de *Kubernetes*.\n",
    "\n",
    "La referencia de los subcomandos de ```kubectl``` puede consultarse en:\n",
    "\n",
    "https://kubernetes.io/docs/reference/kubectl/kubectl/"
   ]
  },
  {
   "cell_type": "markdown",
   "metadata": {},
   "source": [
    "### El plano de control.\n",
    "\n",
    "El plano de control consiste en un conjunto de componentes capaces de gestionar los nodos de un cluster de *Kubernetes*. El cluster puede estar conformado por uno o más nodos.\n",
    "\n",
    "Además del servidor de la *API* (kube-api-server), el plano de control está compuesto por:\n",
    "\n",
    "* Un data store basado en [*etcd*](https://etcd.io/).\n",
    "* Un gestor del cluster (*kube-controller-manager*).\n",
    "* Un gestor de acceso a la nube (*cloud-controller-manager*)\n",
    "* Un planificador (*kube-scheduler*).\n",
    "\n",
    "El plano de control es el encargado de:\n",
    "* Gestionar los nodos del clustes.\n",
    "* Administrar los recursos de red.\n",
    "* Balancear las cargas de trabajo.\n",
    "* Exponer los servicios mediante puertos.\n",
    "* Gestionar el ciclo de vida de los objetos."
   ]
  },
  {
   "cell_type": "markdown",
   "metadata": {},
   "source": [
    "### El panel de control.\n",
    "\n",
    "Para facilitar las labores de gestión del cluster, *Kubernetes* cuenta con un panel de control (*dashboard*) con una interfaz web como componente adicional.\n",
    "\n",
    "https://kubernetes.io/docs/tasks/access-application-cluster/web-ui-dashboard/."
   ]
  },
  {
   "cell_type": "markdown",
   "metadata": {},
   "source": [
    "## Gestión de objetos.\n",
    "\n",
    "*Kubernetes* se basa en objetos para definir el estado dun cluster. Dichos objetos son descritos mediante archivos en formato *YAML*.\n",
    "\n",
    "https://kubernetes.io/es/docs/concepts/overview/working-with-objects/kubernetes-objects/"
   ]
  },
  {
   "cell_type": "markdown",
   "metadata": {},
   "source": [
    "### Los *pods*.\n",
    "\n",
    "Un *pod* es la unidad básica de cómputo de *Kubernetes* y se define mediante un archivo llamado ```pod.yaml```. En dichos archivos es posible definir:\n",
    "\n",
    "* Contenedores.\n",
    "* Redes.\n",
    "* Volúmenes.\n",
    "* Etiquetas e identificadores.\n",
    "\n",
    "De igual forma que los contenedores de *Docker* los *pods* son objetos efímeros, los cuales son desechados una vez que realizan el objetivo para el que fueron creados.\n",
    "\n",
    "La referencia de los *pods* se puede consultar en:\n",
    "\n",
    "https://kubernetes.io/docs/concepts/workloads/pods/"
   ]
  },
  {
   "cell_type": "markdown",
   "metadata": {},
   "source": [
    "### El despliegue (*deployment*).\n",
    "\n",
    "Un *deployment* es el componente que define las interacciones entre uno o más *pods* con la finalidad de realizar un servicio en particular.\n",
    "\n",
    "La definicíon se realiza mendiante un archivo ```deploy.yaml```."
   ]
  },
  {
   "cell_type": "markdown",
   "metadata": {},
   "source": [
    "Un tutorial sobre la conformación del código de un pod puede consultarse en:\n",
    "\n",
    "https://www.mirantis.com/blog/introduction-to-yaml-creating-a-kubernetes-deployment/"
   ]
  },
  {
   "cell_type": "markdown",
   "metadata": {},
   "source": [
    "## Implementaciones de *Kubernetes*.\n",
    "\n",
    "* [*Docker Desktop*](https://www.docker.com/products/docker-desktop).\n",
    "* [*Minikube*](https://kubernetes.io/docs/tasks/tools/install-minikube/).\n",
    "* [*k3s*](https://k3s.io/).\n",
    "* [*microk8s*](https://microk8s.io/).\n",
    "* [*Azure AKS*](https://docs.microsoft.com/en-us/azure/aks/).\n",
    "* [*Google Kubernetes Engine*](https://cloud.google.com/kubernetes-engine/).\n",
    "* [*AWS EKS*](https://aws.amazon.com/es/eks/).\n",
    "* [*IBM Kubernetes Services*](https://www.ibm.com/cloud/container-service/)"
   ]
  },
  {
   "cell_type": "markdown",
   "metadata": {},
   "source": [
    "### *Microk8s*.\n",
    "\n",
    "*MicroK8s* es una implementación conmpleta de *Kubernetes* por parte de *Canonical* que ha sido integrada en versiones recientes de *Ubuntu* e incluso puede ser instalado en *Windows* y *MacOS X*."
   ]
  },
  {
   "cell_type": "markdown",
   "metadata": {},
   "source": [
    "#### Instalación de *microk8s* en *Debian*."
   ]
  },
  {
   "cell_type": "code",
   "execution_count": null,
   "metadata": {},
   "outputs": [],
   "source": [
    "sudo apt update\n",
    "sudo apt install snapd -y"
   ]
  },
  {
   "cell_type": "code",
   "execution_count": null,
   "metadata": {},
   "outputs": [],
   "source": [
    "sudo systemctl status snapd --no-pager"
   ]
  },
  {
   "cell_type": "code",
   "execution_count": null,
   "metadata": {},
   "outputs": [],
   "source": [
    "sudo snap install microk8s"
   ]
  },
  {
   "cell_type": "code",
   "execution_count": null,
   "metadata": {},
   "outputs": [],
   "source": [
    "sudo systemctl status snap.microk8s.daemon-* --no-pager"
   ]
  },
  {
   "cell_type": "code",
   "execution_count": null,
   "metadata": {
    "scrolled": false
   },
   "outputs": [],
   "source": [
    "microk8s inspect"
   ]
  },
  {
   "cell_type": "code",
   "execution_count": null,
   "metadata": {},
   "outputs": [],
   "source": [
    "sudo usermod -a -G microk8s $(whoami)\n",
    "sudo chown -f -R $(whoami) ~/.kube"
   ]
  },
  {
   "cell_type": "markdown",
   "metadata": {},
   "source": [
    "## Herramientas adicionales.\n",
    "\n",
    "Tal como se ha comentado, *Kubernetes* por si mismo no tiene funcionalidades avanzadqas de monitoreo o distribución de aplicaciones. Es por ello por lo que se recomienda el suso de herramientas adicionales tales como:"
   ]
  },
  {
   "cell_type": "markdown",
   "metadata": {},
   "source": [
    "### Istio.\n",
    "\n",
    "Es una herramienta de gestión de la rejilla de servicio (*service mesh*), que permite monitorear el funcionamiento de los servicios desplegados por *Kubernetes*.\n",
    "\n",
    "https://istio.io/"
   ]
  },
  {
   "cell_type": "markdown",
   "metadata": {},
   "source": [
    "### Helm.\n",
    "\n",
    "Es un gestor de pasquetes de aplicaciones basadas en *Kubernetes*.\n",
    "\n",
    "https://helm.sh/"
   ]
  },
  {
   "cell_type": "markdown",
   "metadata": {},
   "source": [
    "### Prometheus.\n",
    "Es un sistema avanzado de monitoreo.\n",
    "\n",
    "https://prometheus.io/"
   ]
  },
  {
   "cell_type": "markdown",
   "metadata": {},
   "source": [
    "### Jaeger.\n",
    "\n",
    "Es otro sistema de monitoreo de infraestructura y servicios.\n",
    "\n",
    "https://www.jaegertracing.io/"
   ]
  },
  {
   "cell_type": "markdown",
   "metadata": {},
   "source": [
    "<p style=\"text-align: center\"><a rel=\"license\" href=\"http://creativecommons.org/licenses/by/4.0/\"><img alt=\"Licencia Creative Commons\" style=\"border-width:0\" src=\"https://i.creativecommons.org/l/by/4.0/80x15.png\" /></a><br />Esta obra está bajo una <a rel=\"license\" href=\"http://creativecommons.org/licenses/by/4.0/\">Licencia Creative Commons Atribución 4.0 Internacional</a>.</p>\n",
    "<p style=\"text-align: center\">&copy; José Luis Chiquete Valdivieso. 2020.</p>"
   ]
  }
 ],
 "metadata": {
  "kernelspec": {
   "display_name": "Bash",
   "language": "bash",
   "name": "bash"
  },
  "language_info": {
   "codemirror_mode": "shell",
   "file_extension": ".sh",
   "mimetype": "text/x-sh",
   "name": "bash"
  }
 },
 "nbformat": 4,
 "nbformat_minor": 2
}
